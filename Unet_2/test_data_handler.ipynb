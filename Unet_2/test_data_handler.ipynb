{
 "cells": [
  {
   "cell_type": "code",
   "execution_count": 1,
   "metadata": {},
   "outputs": [
    {
     "name": "stdout",
     "output_type": "stream",
     "text": [
      "Descargando dataset...\n",
      "Extrayendo archivos...\n",
      "Dataset preparado exitosamente.\n",
      "Dataset cargado con 425 pares de imagen-máscara\n"
     ]
    }
   ],
   "source": [
    "import src.utils.dataset_handler as dh\n",
    "\n",
    "\n",
    "# Load the dataset\n",
    "train, val, test = dh.get_dataloaders(8,'./Unet_2',True)"
   ]
  }
 ],
 "metadata": {
  "kernelspec": {
   "display_name": "Python 3",
   "language": "python",
   "name": "python3"
  },
  "language_info": {
   "codemirror_mode": {
    "name": "ipython",
    "version": 3
   },
   "file_extension": ".py",
   "mimetype": "text/x-python",
   "name": "python",
   "nbconvert_exporter": "python",
   "pygments_lexer": "ipython3",
   "version": "3.8.10"
  }
 },
 "nbformat": 4,
 "nbformat_minor": 2
}
